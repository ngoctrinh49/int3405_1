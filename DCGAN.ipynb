{
  "nbformat": 4,
  "nbformat_minor": 0,
  "metadata": {
    "colab": {
      "name": "DCGAN.ipynb",
      "provenance": [],
      "collapsed_sections": []
    },
    "kernelspec": {
      "name": "python3",
      "display_name": "Python 3"
    },
    "language_info": {
      "name": "python"
    },
    "accelerator": "GPU"
  },
  "cells": [
    {
      "cell_type": "code",
      "metadata": {
        "id": "3ELsIdqvqM-s"
      },
      "source": [
        "import torch\n",
        "import torchvision\n",
        "import torch.nn as nn\n",
        "import torch.nn.functional as F\n",
        "from torch.utils.data import DataLoader\n",
        "from torchvision import datasets\n",
        "from torchvision import transforms\n",
        "from torchvision.utils import save_image\n",
        "import numpy as np\n",
        "import datetime\n",
        "import os, sys"
      ],
      "execution_count": 111,
      "outputs": []
    },
    {
      "cell_type": "code",
      "metadata": {
        "id": "74ecclKIsoBM"
      },
      "source": [
        "from matplotlib.pyplot import imshow, imsave\n",
        "%matplotlib inline"
      ],
      "execution_count": 112,
      "outputs": []
    },
    {
      "cell_type": "code",
      "metadata": {
        "id": "zWnq_RI5sz78"
      },
      "source": [
        "MODEL_NAME = 'DCGAN'\n",
        "DEVICE = torch.device(\"cuda:0\" if torch.cuda.is_available() else \"cpu\")"
      ],
      "execution_count": 113,
      "outputs": []
    },
    {
      "cell_type": "code",
      "metadata": {
        "id": "FKRL9iaBttGG"
      },
      "source": [
        "class Discriminator(nn.Module):\n",
        "    def __init__(self, in_channel=1, num_classes=1):\n",
        "        \n",
        "        super(Discriminator, self).__init__()\n",
        "\n",
        "        self.conv = nn.Sequential(\n",
        "            # 28 -> 14\n",
        "            nn.Conv2d(in_channel, 512, 3, stride=2, padding=1, bias=False),\n",
        "            nn.BatchNorm2d(512),\n",
        "            nn.LeakyReLU(0.2),\n",
        "\n",
        "            # 14 -> 7\n",
        "            nn.Conv2d(512, 256, 3, stride=2, padding=1, bias=False),\n",
        "            nn.BatchNorm2d(256),\n",
        "            nn.LeakyReLU(0.2),\n",
        "            \n",
        "            # 7 -> 4\n",
        "            nn.Conv2d(256, 128, 3, stride=2, padding=1, bias=False),\n",
        "            nn.BatchNorm2d(128),\n",
        "            nn.LeakyReLU(0.2),\n",
        "            nn.AvgPool2d(4),\n",
        "        )\n",
        "\n",
        "        self.fc = nn.Sequential(\n",
        "            # reshape input, 128 -> 1\n",
        "            nn.Linear(128, 1),\n",
        "            nn.Sigmoid(),\n",
        "        )\n",
        "    \n",
        "    def forward(self, x, y=None):\n",
        "        y_ = self.conv(x)\n",
        "        y_ = y_.view(y_.size(0), -1)\n",
        "        y_ = self.fc(y_)\n",
        "        return y_"
      ],
      "execution_count": 115,
      "outputs": []
    },
    {
      "cell_type": "code",
      "metadata": {
        "id": "K5eUWQjvtxVA"
      },
      "source": [
        "class Generator(nn.Module):\n",
        "    def __init__(self, input_size=100, num_classes=784):\n",
        "        super(Generator, self).__init__()\n",
        "\n",
        "        self.fc = nn.Sequential(\n",
        "            nn.Linear(input_size, 4*4*512),\n",
        "            nn.ReLU(),\n",
        "        )\n",
        "\n",
        "        self.conv = nn.Sequential(\n",
        "            # input: 4 by 4, output: 7 by 7\n",
        "            nn.ConvTranspose2d(512, 256, 3, stride=2, padding=1, bias=False),\n",
        "            nn.BatchNorm2d(256),\n",
        "            nn.ReLU(),\n",
        "\n",
        "            # input: 7 by 7, output: 14 by 14\n",
        "            nn.ConvTranspose2d(256, 128, 4, stride=2, padding=1, bias=False),\n",
        "            nn.BatchNorm2d(128),\n",
        "            nn.ReLU(),\n",
        "            \n",
        "            # input: 14 by 14, output: 28 by 28\n",
        "            nn.ConvTranspose2d(128, 1, 4, stride=2, padding=1, bias=False),\n",
        "            nn.Tanh(),\n",
        "        )\n",
        "        \n",
        "    def forward(self, x, y=None):\n",
        "        x = x.view(x.size(0), -1)\n",
        "        y_ = self.fc(x)\n",
        "        y_ = y_.view(y_.size(0), 512, 4, 4)\n",
        "        y_ = self.conv(y_)\n",
        "        return y_"
      ],
      "execution_count": 116,
      "outputs": []
    },
    {
      "cell_type": "code",
      "metadata": {
        "id": "PksK2IGqtzWq"
      },
      "source": [
        "D = Discriminator().to(DEVICE)\n",
        "G = Generator().to(DEVICE)"
      ],
      "execution_count": 117,
      "outputs": []
    },
    {
      "cell_type": "code",
      "metadata": {
        "id": "WTnBi5lCt2dw"
      },
      "source": [
        "transform = transforms.Compose([transforms.ToTensor(), transforms.Normalize(mean=[0.5], std=[0.5])])"
      ],
      "execution_count": 118,
      "outputs": []
    },
    {
      "cell_type": "code",
      "metadata": {
        "id": "JgJGJ_VKt-pr"
      },
      "source": [
        "mnist = datasets.MNIST(root='../data/', train=True, transform=transform, download=True)\n",
        "batch_size = 64\n",
        "data_loader = DataLoader(dataset=mnist, batch_size=batch_size, shuffle=True, drop_last=True)"
      ],
      "execution_count": 119,
      "outputs": []
    },
    {
      "cell_type": "code",
      "metadata": {
        "id": "gdMBjLfpuJaU"
      },
      "source": [
        "criterion = nn.BCELoss()\n",
        "D_opt = torch.optim.Adam(D.parameters(), lr=0.001, betas=(0.5, 0.999))\n",
        "G_opt = torch.optim.Adam(G.parameters(), lr=0.001, betas=(0.5, 0.999))"
      ],
      "execution_count": 120,
      "outputs": []
    },
    {
      "cell_type": "code",
      "metadata": {
        "id": "1HI9qEd8uRp6"
      },
      "source": [
        "numberOfEpochs = 21\n",
        "step = 0\n",
        "n_critic = 1 # k steps about D\n",
        "n_noise = 100"
      ],
      "execution_count": 121,
      "outputs": []
    },
    {
      "cell_type": "code",
      "metadata": {
        "id": "dZsT1hX3uY-m"
      },
      "source": [
        "D_labels = torch.ones([batch_size, 1]).to(DEVICE) # real\n",
        "D_fakes = torch.zeros([batch_size, 1]).to(DEVICE) # fake"
      ],
      "execution_count": 122,
      "outputs": []
    },
    {
      "cell_type": "code",
      "metadata": {
        "colab": {
          "base_uri": "https://localhost:8080/"
        },
        "id": "iiN8yRO-uddK",
        "outputId": "d4188390-a240-498d-c52b-bee0abb14ba6"
      },
      "source": [
        "for epoch in range(numberOfEpochs):\n",
        "    for idx, (images, labels) in enumerate(data_loader):\n",
        "        # Training Discriminator\n",
        "        x = images.to(DEVICE)\n",
        "        x_outputs = D(x)\n",
        "        D_x_loss = criterion(x_outputs, D_labels)\n",
        "\n",
        "        z = torch.randn(batch_size, n_noise).to(DEVICE)\n",
        "        z_outputs = D(G(z))\n",
        "        D_z_loss = criterion(z_outputs, D_fakes)\n",
        "        D_loss = D_x_loss + D_z_loss\n",
        "        \n",
        "        D.zero_grad()\n",
        "        D_loss.backward()\n",
        "        D_opt.step()\n",
        "\n",
        "        if step % n_critic == 0:\n",
        "            # Training Generator\n",
        "            z = torch.randn(batch_size, n_noise).to(DEVICE)\n",
        "            z_outputs = D(G(z))\n",
        "            G_loss = criterion(z_outputs, D_labels)\n",
        "\n",
        "            D.zero_grad()\n",
        "            G.zero_grad()\n",
        "            G_loss.backward()\n",
        "            G_opt.step()\n",
        "        \n",
        "        if step % 500 == 0:\n",
        "            print('Epoch: {}/{}, Step: {}, D Loss: {}, G Loss: {}'.format(epoch, numberOfEpochs, step, D_loss.item(), G_loss.item()))\n",
        "        \n",
        "        if step % 1000 == 0:\n",
        "            G.eval()\n",
        "            img = get_sample_image(G, n_noise)\n",
        "            G.train()\n",
        "        step += 1"
      ],
      "execution_count": 123,
      "outputs": [
        {
          "output_type": "stream",
          "name": "stdout",
          "text": [
            "Epoch: 0/21, Step: 0, D Loss: 1.4005764722824097, G Loss: 0.6122380495071411\n",
            "Epoch: 0/21, Step: 500, D Loss: 0.699822187423706, G Loss: 1.0505948066711426\n",
            "Epoch: 1/21, Step: 1000, D Loss: 0.887744665145874, G Loss: 1.9006403684616089\n",
            "Epoch: 1/21, Step: 1500, D Loss: 0.6414382457733154, G Loss: 1.64603590965271\n",
            "Epoch: 2/21, Step: 2000, D Loss: 0.6310254335403442, G Loss: 0.9683728814125061\n",
            "Epoch: 2/21, Step: 2500, D Loss: 0.4077147841453552, G Loss: 1.986769676208496\n",
            "Epoch: 3/21, Step: 3000, D Loss: 0.6273844838142395, G Loss: 1.9089195728302002\n",
            "Epoch: 3/21, Step: 3500, D Loss: 0.58885258436203, G Loss: 2.7194533348083496\n",
            "Epoch: 4/21, Step: 4000, D Loss: 0.4431149363517761, G Loss: 2.4377074241638184\n",
            "Epoch: 4/21, Step: 4500, D Loss: 0.39726412296295166, G Loss: 2.838071823120117\n",
            "Epoch: 5/21, Step: 5000, D Loss: 0.7500532865524292, G Loss: 2.6509034633636475\n",
            "Epoch: 5/21, Step: 5500, D Loss: 0.5884911417961121, G Loss: 1.4566423892974854\n",
            "Epoch: 6/21, Step: 6000, D Loss: 0.5605299472808838, G Loss: 3.9844794273376465\n",
            "Epoch: 6/21, Step: 6500, D Loss: 0.55816650390625, G Loss: 0.7800635099411011\n",
            "Epoch: 7/21, Step: 7000, D Loss: 0.27452558279037476, G Loss: 1.7048759460449219\n",
            "Epoch: 8/21, Step: 7500, D Loss: 0.3236998915672302, G Loss: 1.6122227907180786\n",
            "Epoch: 8/21, Step: 8000, D Loss: 0.2859734296798706, G Loss: 1.9534767866134644\n",
            "Epoch: 9/21, Step: 8500, D Loss: 0.4023427367210388, G Loss: 1.8125736713409424\n",
            "Epoch: 9/21, Step: 9000, D Loss: 0.35730546712875366, G Loss: 2.3007192611694336\n",
            "Epoch: 10/21, Step: 9500, D Loss: 0.3140638768672943, G Loss: 2.457355499267578\n",
            "Epoch: 10/21, Step: 10000, D Loss: 0.7705671787261963, G Loss: 3.4760704040527344\n",
            "Epoch: 11/21, Step: 10500, D Loss: 0.27568233013153076, G Loss: 1.4764831066131592\n",
            "Epoch: 11/21, Step: 11000, D Loss: 0.4607471227645874, G Loss: 2.23752498626709\n",
            "Epoch: 12/21, Step: 11500, D Loss: 0.4515460729598999, G Loss: 3.5814595222473145\n",
            "Epoch: 12/21, Step: 12000, D Loss: 0.3604622781276703, G Loss: 3.0434775352478027\n",
            "Epoch: 13/21, Step: 12500, D Loss: 0.3354972004890442, G Loss: 1.67082941532135\n",
            "Epoch: 13/21, Step: 13000, D Loss: 0.36835187673568726, G Loss: 2.4138760566711426\n",
            "Epoch: 14/21, Step: 13500, D Loss: 0.4210721254348755, G Loss: 1.5275287628173828\n",
            "Epoch: 14/21, Step: 14000, D Loss: 0.3881552219390869, G Loss: 1.9794257879257202\n",
            "Epoch: 15/21, Step: 14500, D Loss: 0.6027399301528931, G Loss: 1.0759086608886719\n",
            "Epoch: 16/21, Step: 15000, D Loss: 1.1114606857299805, G Loss: 3.3428778648376465\n",
            "Epoch: 16/21, Step: 15500, D Loss: 0.3371126651763916, G Loss: 2.028780937194824\n",
            "Epoch: 17/21, Step: 16000, D Loss: 0.36816221475601196, G Loss: 2.1957812309265137\n",
            "Epoch: 17/21, Step: 16500, D Loss: 0.24456092715263367, G Loss: 2.714594841003418\n",
            "Epoch: 18/21, Step: 17000, D Loss: 0.26476216316223145, G Loss: 4.0748610496521\n",
            "Epoch: 18/21, Step: 17500, D Loss: 0.5703633427619934, G Loss: 3.174417495727539\n",
            "Epoch: 19/21, Step: 18000, D Loss: 0.3824673891067505, G Loss: 2.2123515605926514\n",
            "Epoch: 19/21, Step: 18500, D Loss: 0.34058141708374023, G Loss: 1.357448935508728\n",
            "Epoch: 20/21, Step: 19000, D Loss: 0.24973651766777039, G Loss: 3.7408807277679443\n",
            "Epoch: 20/21, Step: 19500, D Loss: 0.3265150189399719, G Loss: 2.4519729614257812\n"
          ]
        }
      ]
    },
    {
      "cell_type": "code",
      "metadata": {
        "colab": {
          "base_uri": "https://localhost:8080/"
        },
        "id": "tZJfakyvBiyv",
        "outputId": "0e79ba13-ec09-4f3a-86f0-d87d3b12178e"
      },
      "source": [
        "G.eval()"
      ],
      "execution_count": 134,
      "outputs": [
        {
          "output_type": "execute_result",
          "data": {
            "text/plain": [
              "Generator(\n",
              "  (fc): Sequential(\n",
              "    (0): Linear(in_features=100, out_features=8192, bias=True)\n",
              "    (1): ReLU()\n",
              "  )\n",
              "  (conv): Sequential(\n",
              "    (0): ConvTranspose2d(512, 256, kernel_size=(3, 3), stride=(2, 2), padding=(1, 1), bias=False)\n",
              "    (1): BatchNorm2d(256, eps=1e-05, momentum=0.1, affine=True, track_running_stats=True)\n",
              "    (2): ReLU()\n",
              "    (3): ConvTranspose2d(256, 128, kernel_size=(4, 4), stride=(2, 2), padding=(1, 1), bias=False)\n",
              "    (4): BatchNorm2d(128, eps=1e-05, momentum=0.1, affine=True, track_running_stats=True)\n",
              "    (5): ReLU()\n",
              "    (6): ConvTranspose2d(128, 1, kernel_size=(4, 4), stride=(2, 2), padding=(1, 1), bias=False)\n",
              "    (7): Tanh()\n",
              "  )\n",
              ")"
            ]
          },
          "metadata": {},
          "execution_count": 134
        }
      ]
    },
    {
      "cell_type": "code",
      "metadata": {
        "id": "5J38MmB1B3Cp"
      },
      "source": [
        "def print_image(G, n_noise):\n",
        "    \"\"\"\n",
        "        save sample 100 images\n",
        "    \"\"\"\n",
        "    z = torch.randn(100, n_noise).to(DEVICE)\n",
        "    y_hat = G(z).view(100, 28, 28) # (100, 28, 28)\n",
        "    result = y_hat.cpu().data.numpy()\n",
        "    img = np.zeros([280, 280])\n",
        "    for j in range(10):\n",
        "        img[j*28:(j+1)*28] = np.concatenate([x for x in result[j*10:(j+1)*10]], axis=-1)\n",
        "    return img"
      ],
      "execution_count": 131,
      "outputs": []
    },
    {
      "cell_type": "code",
      "metadata": {
        "colab": {
          "base_uri": "https://localhost:8080/",
          "height": 285
        },
        "id": "7RjMKqL_Cju8",
        "outputId": "e6e5ded8-876d-4b3b-d425-b0b67c65d290"
      },
      "source": [
        "imshow(print_image(G, n_noise), cmap='gray')"
      ],
      "execution_count": 132,
      "outputs": [
        {
          "output_type": "execute_result",
          "data": {
            "text/plain": [
              "<matplotlib.image.AxesImage at 0x7f72a8383610>"
            ]
          },
          "metadata": {},
          "execution_count": 132
        },
        {
          "output_type": "display_data",
          "data": {
            "image/png": "[encoded data removed]",
            "text/plain": [
              "<Figure size 432x288 with 1 Axes>"
            ]
          },
          "metadata": {
            "needs_background": "light"
          }
        }
      ]
    },
    {
      "cell_type": "code",
      "metadata": {
        "id": "5JsE31FXCuBw"
      },
      "source": [
        ""
      ],
      "execution_count": null,
      "outputs": []
    }
  ]
}